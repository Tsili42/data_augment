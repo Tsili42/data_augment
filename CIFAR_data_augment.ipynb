{
  "nbformat": 4,
  "nbformat_minor": 0,
  "metadata": {
    "colab": {
      "name": "CIFAR data augment",
      "provenance": [],
      "collapsed_sections": [],
      "machine_shape": "hm"
    },
    "kernelspec": {
      "name": "python3",
      "display_name": "Python 3"
    },
    "accelerator": "GPU"
  },
  "cells": [
    {
      "cell_type": "markdown",
      "metadata": {
        "id": "MJlKeXMKg0aN",
        "colab_type": "text"
      },
      "source": [
        "##Χρήση augmentation τεχνικών που βρέθηκαν από το AutoAugment για το dataset CIFAR10"
      ]
    },
    {
      "cell_type": "code",
      "metadata": {
        "id": "3ek9zQbdbE0T",
        "colab_type": "code",
        "colab": {}
      },
      "source": [
        "!pip install Pillow==6.2.0"
      ],
      "execution_count": 0,
      "outputs": []
    },
    {
      "cell_type": "code",
      "metadata": {
        "id": "DEoqWD2oO0F_",
        "colab_type": "code",
        "outputId": "61a0f546-c9a1-4ac5-bc31-99d1860c14d3",
        "colab": {
          "base_uri": "https://localhost:8080/",
          "height": 51
        }
      },
      "source": [
        "import torch, numpy as np\n",
        "from torchvision import datasets, transforms\n",
        "import cv2\n",
        "import matplotlib.pyplot as plt\n",
        "\n",
        "BATCH_SIZE = 16\n",
        "\n",
        "# A couple of augmentation techniques tried on cifar from scratch. They serve no purpose in this demo\n",
        "#def smoothen(img):\n",
        "#  scale = (3,3)\n",
        "#  return cv2.GaussianBlur(np.asarray(img), scale, 0)\n",
        "\n",
        "#def sharpen(img):\n",
        "#  low = smoothen(img)\n",
        "#  return cv2.addWeighted(np.asarray(img),3,low,-2,0)\n",
        "\n",
        "#train_transforms = transforms.Compose([transforms.RandomApply([transforms.Lambda(sharpen)], 0.3), transforms.ToTensor()])\n",
        "test_transforms = transforms.ToTensor()\n",
        "\n",
        "train_loader = torch.utils.data.DataLoader(\n",
        "        datasets.CIFAR10('../data', train=True, download=True,\n",
        "                       transform=test_transforms),\n",
        "        batch_size=BATCH_SIZE, shuffle=True, drop_last=True)\n",
        "\n",
        "test_loader = torch.utils.data.DataLoader(\n",
        "        datasets.CIFAR10('../data', train=False, download=True,\n",
        "                       transform=test_transforms),\n",
        "        batch_size=BATCH_SIZE, shuffle=True, drop_last=True)"
      ],
      "execution_count": 2,
      "outputs": [
        {
          "output_type": "stream",
          "text": [
            "Files already downloaded and verified\n",
            "Files already downloaded and verified\n"
          ],
          "name": "stdout"
        }
      ]
    },
    {
      "cell_type": "code",
      "metadata": {
        "id": "axjHkdrlWovL",
        "colab_type": "code",
        "colab": {}
      },
      "source": [
        "len(train_loader)*BATCH_SIZE\n",
        "img, label = list(train_loader)[1]"
      ],
      "execution_count": 0,
      "outputs": []
    },
    {
      "cell_type": "code",
      "metadata": {
        "id": "vw6XkSOzid7o",
        "colab_type": "code",
        "colab": {}
      },
      "source": [
        "label_to_class = {\n",
        "    0: \"airplane\",\n",
        "    1: \"automobile\",\n",
        "    2: \"bird\",\n",
        "    3: \"cat\",\n",
        "    4: \"deer\",\n",
        "    5: \"dog\",\n",
        "    6: \"frog\",\n",
        "    7: \"horse\",\n",
        "    8: \"ship\",\n",
        "    9: \"truck\"\n",
        "}"
      ],
      "execution_count": 0,
      "outputs": []
    },
    {
      "cell_type": "markdown",
      "metadata": {
        "id": "JuMlJ52uh66u",
        "colab_type": "text"
      },
      "source": [
        "Οπτικοποίηση ορισμένων εικόνων του CIFAR10"
      ]
    },
    {
      "cell_type": "code",
      "metadata": {
        "id": "gIfSf-l5XAYU",
        "colab_type": "code",
        "outputId": "b8f147ef-0f19-4110-c9e1-0302fbdb081f",
        "colab": {
          "base_uri": "https://localhost:8080/",
          "height": 1000
        }
      },
      "source": [
        "for i in range(5):\n",
        "  image = img[i, :, :, :].numpy()\n",
        "  plt.imshow(image.transpose(1, 2, 0))\n",
        "  plt.title(label_to_class[label[i].item()])\n",
        "  plt.show()"
      ],
      "execution_count": 5,
      "outputs": [
        {
          "output_type": "display_data",
          "data": {
            "image/png": "[encoded data removed]",
            "text/plain": [
              "<Figure size 432x288 with 1 Axes>"
            ]
          },
          "metadata": {
            "tags": []
          }
        },
        {
          "output_type": "display_data",
          "data": {
            "image/png": "[encoded data removed]",
            "text/plain": [
              "<Figure size 432x288 with 1 Axes>"
            ]
          },
          "metadata": {
            "tags": []
          }
        },
        {
          "output_type": "display_data",
          "data": {
            "image/png": "[encoded data removed]",
            "text/plain": [
              "<Figure size 432x288 with 1 Axes>"
            ]
          },
          "metadata": {
            "tags": []
          }
        },
        {
          "output_type": "display_data",
          "data": {
            "image/png": "[encoded data removed]",
            "text/plain": [
              "<Figure size 432x288 with 1 Axes>"
            ]
          },
          "metadata": {
            "tags": []
          }
        },
        {
          "output_type": "display_data",
          "data": {
            "image/png": "[encoded data removed]",
            "text/plain": [
              "<Figure size 432x288 with 1 Axes>"
            ]
          },
          "metadata": {
            "tags": []
          }
        }
      ]
    },
    {
      "cell_type": "markdown",
      "metadata": {
        "id": "rSIUvEyQiB3U",
        "colab_type": "text"
      },
      "source": [
        "Ορίζουμε παρακάτω το απλό CNN δίκτυο που θα χρησιμοποιήσουμε στο πέιραμα μας"
      ]
    },
    {
      "cell_type": "code",
      "metadata": {
        "id": "mEv958n3aemO",
        "colab_type": "code",
        "colab": {}
      },
      "source": [
        "import torch.nn as nn\n",
        "import torch.nn.functional as functions\n",
        "import torch.optim as optim\n",
        "\n",
        "class Cyclops(nn.Module):\n",
        "  def __init__(self, input_dim, output_dim):\n",
        "    super(Cyclops, self).__init__()\n",
        "    self.input_dim = input_dim\n",
        "    self.output_dim = output_dim\n",
        "    self.convolutional_layer1 = nn.Sequential(nn.Conv2d(in_channels=self.input_dim, out_channels=12, kernel_size=4),\n",
        "                               nn.ReLU(inplace=True),\n",
        "                               nn.MaxPool2d(kernel_size=4))\n",
        "    \n",
        "    self.convolutional_layer2 = nn.Sequential(nn.Conv2d(in_channels=12, out_channels=24, kernel_size=4),\n",
        "                                nn.ReLU(inplace=True),\n",
        "                                nn.MaxPool2d(kernel_size=4))\n",
        "    \n",
        "    self.classifier_layer = nn.Linear(24, self.output_dim)\n",
        "  \n",
        "  def forward(self, x):\n",
        "    x = self.convolutional_layer1(x)\n",
        "    x = self.convolutional_layer2(x)\n",
        "    x = x.view(BATCH_SIZE, -1)\n",
        "    return self.classifier_layer(x)\n",
        "\n",
        "input_dim = 3 #number of channels\n",
        "output_dim = 10 #number of classes\n",
        "n_epochs = 5\n",
        "\n",
        "device = torch.device(\"cuda:0\" if torch.cuda.is_available() else \"cpu\")\n",
        "\n",
        "model = Cyclops(input_dim, output_dim).to(device)\n",
        "loss_function = nn.CrossEntropyLoss()\n",
        "optimizer = torch.optim.SGD(model.parameters(), lr=0.1)"
      ],
      "execution_count": 0,
      "outputs": []
    },
    {
      "cell_type": "code",
      "metadata": {
        "id": "WqD_UKWYdnJK",
        "colab_type": "code",
        "colab": {}
      },
      "source": [
        "train_losses = []\n",
        "train_counter = []\n",
        "test_losses = []\n",
        "test_counter = [i*len(train_loader.dataset) for i in range(n_epochs + 1)]\n",
        "\n",
        "def train(epoch, train_data, model):\n",
        "  model.train()\n",
        "  for batch_idx, (data, target) in enumerate(train_data):\n",
        "    data = data.to(device)\n",
        "    target = target.to(device)\n",
        "    optimizer.zero_grad()\n",
        "    output = model(data)\n",
        "    loss = loss_function(output, target)\n",
        "    loss.backward()\n",
        "    optimizer.step()\n",
        "    if batch_idx % 480 == 0:\n",
        "      print('Train Epoch: {} [{}/{} ({:.0f}%)]\\tLoss: {:.6f}'.format(\n",
        "        epoch, batch_idx * len(data), len(train_data.dataset),\n",
        "        100. * batch_idx / len(train_data), loss.item()))\n",
        "      train_losses.append(loss.item())\n",
        "      train_counter.append(\n",
        "        (batch_idx*64) + ((epoch-1)*len(train_data.dataset)))\n",
        "      \n",
        "      \n",
        "def test(model):\n",
        "  model.eval()\n",
        "  test_loss = 0\n",
        "  correct = 0\n",
        "  with torch.no_grad():\n",
        "    for data, target in test_loader:\n",
        "      data = data.to(device)\n",
        "      target = target.to(device)\n",
        "      output = model(data)\n",
        "      test_loss += loss_function(output, target).item()\n",
        "      pred = output.data.max(1, keepdim=True)[1]\n",
        "      correct += pred.eq(target.data.view_as(pred)).sum()\n",
        "  test_loss /= len(test_loader.dataset)\n",
        "  test_losses.append(test_loss)\n",
        "  print('\\nTest set: Avg. loss: {:.4f}, Accuracy: {}/{} ({:.0f}%)\\n'.format(\n",
        "    test_loss, correct, len(test_loader.dataset),\n",
        "    100. * correct / len(test_loader.dataset)))"
      ],
      "execution_count": 0,
      "outputs": []
    },
    {
      "cell_type": "markdown",
      "metadata": {
        "id": "11uiI3ZviaVz",
        "colab_type": "text"
      },
      "source": [
        "Αρχικά εκπαιδεύουμε το δίκτυο μας για 5 εποχές με τα πραγματικά δεδομένα."
      ]
    },
    {
      "cell_type": "code",
      "metadata": {
        "id": "kHkz7U8ieF71",
        "colab_type": "code",
        "outputId": "ba6bfe72-321b-4a1f-9dec-09be47da301b",
        "colab": {
          "base_uri": "https://localhost:8080/",
          "height": 935
        }
      },
      "source": [
        "print(\"Baseline score\")\n",
        "test(model)\n",
        "for epoch in range(1, n_epochs + 1):\n",
        "  train(epoch, train_loader, model)\n",
        "  test(model)"
      ],
      "execution_count": 8,
      "outputs": [
        {
          "output_type": "stream",
          "text": [
            "Baseline score\n",
            "\n",
            "Test set: Avg. loss: 0.1441, Accuracy: 1001/10000 (10%)\n",
            "\n",
            "Train Epoch: 1 [0/50000 (0%)]\tLoss: 2.337534\n",
            "Train Epoch: 1 [7680/50000 (15%)]\tLoss: 3.377643\n",
            "Train Epoch: 1 [15360/50000 (31%)]\tLoss: 1.924010\n",
            "Train Epoch: 1 [23040/50000 (46%)]\tLoss: 1.870247\n",
            "Train Epoch: 1 [30720/50000 (61%)]\tLoss: 2.017515\n",
            "Train Epoch: 1 [38400/50000 (77%)]\tLoss: 1.813033\n",
            "Train Epoch: 1 [46080/50000 (92%)]\tLoss: 1.954940\n",
            "\n",
            "Test set: Avg. loss: 0.1066, Accuracy: 3964/10000 (39%)\n",
            "\n",
            "Train Epoch: 2 [0/50000 (0%)]\tLoss: 1.843747\n",
            "Train Epoch: 2 [7680/50000 (15%)]\tLoss: 1.402459\n",
            "Train Epoch: 2 [15360/50000 (31%)]\tLoss: 1.298182\n",
            "Train Epoch: 2 [23040/50000 (46%)]\tLoss: 1.345532\n",
            "Train Epoch: 2 [30720/50000 (61%)]\tLoss: 1.522247\n",
            "Train Epoch: 2 [38400/50000 (77%)]\tLoss: 1.722005\n",
            "Train Epoch: 2 [46080/50000 (92%)]\tLoss: 1.411588\n",
            "\n",
            "Test set: Avg. loss: 0.0968, Accuracy: 4370/10000 (43%)\n",
            "\n",
            "Train Epoch: 3 [0/50000 (0%)]\tLoss: 2.250652\n",
            "Train Epoch: 3 [7680/50000 (15%)]\tLoss: 1.357542\n",
            "Train Epoch: 3 [15360/50000 (31%)]\tLoss: 1.556869\n",
            "Train Epoch: 3 [23040/50000 (46%)]\tLoss: 1.452686\n",
            "Train Epoch: 3 [30720/50000 (61%)]\tLoss: 1.535964\n",
            "Train Epoch: 3 [38400/50000 (77%)]\tLoss: 1.686921\n",
            "Train Epoch: 3 [46080/50000 (92%)]\tLoss: 1.392402\n",
            "\n",
            "Test set: Avg. loss: 0.0911, Accuracy: 4706/10000 (47%)\n",
            "\n",
            "Train Epoch: 4 [0/50000 (0%)]\tLoss: 1.592396\n",
            "Train Epoch: 4 [7680/50000 (15%)]\tLoss: 1.982880\n",
            "Train Epoch: 4 [15360/50000 (31%)]\tLoss: 1.330387\n",
            "Train Epoch: 4 [23040/50000 (46%)]\tLoss: 1.950970\n",
            "Train Epoch: 4 [30720/50000 (61%)]\tLoss: 1.946533\n",
            "Train Epoch: 4 [38400/50000 (77%)]\tLoss: 1.670968\n",
            "Train Epoch: 4 [46080/50000 (92%)]\tLoss: 1.920756\n",
            "\n",
            "Test set: Avg. loss: 0.0872, Accuracy: 5112/10000 (51%)\n",
            "\n",
            "Train Epoch: 5 [0/50000 (0%)]\tLoss: 0.994057\n",
            "Train Epoch: 5 [7680/50000 (15%)]\tLoss: 1.013876\n",
            "Train Epoch: 5 [15360/50000 (31%)]\tLoss: 1.217452\n",
            "Train Epoch: 5 [23040/50000 (46%)]\tLoss: 1.475605\n",
            "Train Epoch: 5 [30720/50000 (61%)]\tLoss: 1.488887\n",
            "Train Epoch: 5 [38400/50000 (77%)]\tLoss: 1.050142\n",
            "Train Epoch: 5 [46080/50000 (92%)]\tLoss: 1.166406\n",
            "\n",
            "Test set: Avg. loss: 0.0887, Accuracy: 5026/10000 (50%)\n",
            "\n"
          ],
          "name": "stdout"
        }
      ]
    },
    {
      "cell_type": "markdown",
      "metadata": {
        "id": "1Dnv8nlqij13",
        "colab_type": "text"
      },
      "source": [
        "Στη συνέχεια ορίζουμε τις 5 βέλτιστες πολιτικές που βρέθηκαν από το AutoAugment πως βοηθούν στη γενίκευση δικτύων για το CIFAR10. Παρατηρούμε την πολλαπλή εμφάνιση χρωματικών μετασχηματισμών, όπως το equalize, color και autocontrast. Ο παρακάτω κώδικας που ορίζει τους βέλτιστους μετασχηματισμούς χρησιμοποιήθηκε από το εξής repository: https://github.com/DeepVoltaire/AutoAugment/blob/master/autoaugment.py"
      ]
    },
    {
      "cell_type": "code",
      "metadata": {
        "id": "rtFyX1_uUak5",
        "colab_type": "code",
        "colab": {}
      },
      "source": [
        "from PIL import Image, ImageEnhance, ImageOps\n",
        "import numpy as np\n",
        "import random\n",
        "\n",
        "class CIFAR10Policy(object):\n",
        "    \"\"\" Randomly choose one of the best 25 Sub-policies on CIFAR10.\n",
        "        Example as a PyTorch Transform:\n",
        "        >>> transform=transforms.Compose([\n",
        "        >>>     transforms.Resize(256),\n",
        "        >>>     CIFAR10Policy(),\n",
        "        >>>     transforms.ToTensor()])\n",
        "    \"\"\"\n",
        "    def __init__(self, fillcolor=(128, 128, 128)):\n",
        "        self.policies = [\n",
        "            SubPolicy(0.1, \"invert\", 7, 0.2, \"contrast\", 6, fillcolor),\n",
        "            SubPolicy(0.7, \"rotate\", 2, 0.3, \"translateX\", 9, fillcolor),\n",
        "            SubPolicy(0.8, \"sharpness\", 1, 0.9, \"sharpness\", 3, fillcolor),\n",
        "            SubPolicy(0.5, \"shearY\", 8, 0.7, \"translateY\", 9, fillcolor),\n",
        "            SubPolicy(0.5, \"autocontrast\", 8, 0.9, \"equalize\", 2, fillcolor),\n",
        "\n",
        "            SubPolicy(0.2, \"shearY\", 7, 0.3, \"posterize\", 7, fillcolor),\n",
        "            SubPolicy(0.4, \"color\", 3, 0.6, \"brightness\", 7, fillcolor),\n",
        "            SubPolicy(0.3, \"sharpness\", 9, 0.7, \"brightness\", 9, fillcolor),\n",
        "            SubPolicy(0.6, \"equalize\", 5, 0.5, \"equalize\", 1, fillcolor),\n",
        "            SubPolicy(0.6, \"contrast\", 7, 0.6, \"sharpness\", 5, fillcolor),\n",
        "\n",
        "            SubPolicy(0.7, \"color\", 7, 0.5, \"translateX\", 8, fillcolor),\n",
        "            SubPolicy(0.3, \"equalize\", 7, 0.4, \"autocontrast\", 8, fillcolor),\n",
        "            SubPolicy(0.4, \"translateY\", 3, 0.2, \"sharpness\", 6, fillcolor),\n",
        "            SubPolicy(0.9, \"brightness\", 6, 0.2, \"color\", 8, fillcolor),\n",
        "            SubPolicy(0.5, \"solarize\", 2, 0.0, \"invert\", 3, fillcolor),\n",
        "\n",
        "            SubPolicy(0.2, \"equalize\", 0, 0.6, \"autocontrast\", 0, fillcolor),\n",
        "            SubPolicy(0.2, \"equalize\", 8, 0.6, \"equalize\", 4, fillcolor),\n",
        "            SubPolicy(0.9, \"color\", 9, 0.6, \"equalize\", 6, fillcolor),\n",
        "            SubPolicy(0.8, \"autocontrast\", 4, 0.2, \"solarize\", 8, fillcolor),\n",
        "            SubPolicy(0.1, \"brightness\", 3, 0.7, \"color\", 0, fillcolor),\n",
        "\n",
        "            SubPolicy(0.4, \"solarize\", 5, 0.9, \"autocontrast\", 3, fillcolor),\n",
        "            SubPolicy(0.9, \"translateY\", 9, 0.7, \"translateY\", 9, fillcolor),\n",
        "            SubPolicy(0.9, \"autocontrast\", 2, 0.8, \"solarize\", 3, fillcolor),\n",
        "            SubPolicy(0.8, \"equalize\", 8, 0.1, \"invert\", 3, fillcolor),\n",
        "            SubPolicy(0.7, \"translateY\", 9, 0.9, \"autocontrast\", 1, fillcolor)\n",
        "        ]\n",
        "\n",
        "\n",
        "    def __call__(self, img):\n",
        "        policy_idx = random.randint(0, len(self.policies) - 1)\n",
        "        return self.policies[policy_idx](img)\n",
        "\n",
        "    def __repr__(self):\n",
        "        return \"AutoAugment CIFAR10 Policy\"\n",
        "\n",
        "\n",
        "class SubPolicy(object):\n",
        "    def __init__(self, p1, operation1, magnitude_idx1, p2, operation2, magnitude_idx2, fillcolor=(128, 128, 128)):\n",
        "        ranges = {\n",
        "            \"shearX\": np.linspace(0, 0.3, 10),\n",
        "            \"shearY\": np.linspace(0, 0.3, 10),\n",
        "            \"translateX\": np.linspace(0, 150 / 331, 10),\n",
        "            \"translateY\": np.linspace(0, 150 / 331, 10),\n",
        "            \"rotate\": np.linspace(0, 30, 10),\n",
        "            \"color\": np.linspace(0.0, 0.9, 10),\n",
        "            \"posterize\": np.round(np.linspace(8, 4, 10), 0).astype(np.int),\n",
        "            \"solarize\": np.linspace(256, 0, 10),\n",
        "            \"contrast\": np.linspace(0.0, 0.9, 10),\n",
        "            \"sharpness\": np.linspace(0.0, 0.9, 10),\n",
        "            \"brightness\": np.linspace(0.0, 0.9, 10),\n",
        "            \"autocontrast\": [0] * 10,\n",
        "            \"equalize\": [0] * 10,\n",
        "            \"invert\": [0] * 10\n",
        "        }\n",
        "\n",
        "        # from https://stackoverflow.com/questions/5252170/specify-image-filling-color-when-rotating-in-python-with-pil-and-setting-expand\n",
        "        def rotate_with_fill(img, magnitude):\n",
        "            rot = img.convert(\"RGBA\").rotate(magnitude)\n",
        "            return Image.composite(rot, Image.new(\"RGBA\", rot.size, (128,) * 4), rot).convert(img.mode)\n",
        "\n",
        "        func = {\n",
        "            \"shearX\": lambda img, magnitude: img.transform(\n",
        "                img.size, Image.AFFINE, (1, magnitude * random.choice([-1, 1]), 0, 0, 1, 0),\n",
        "                Image.BICUBIC, fillcolor=fillcolor),\n",
        "            \"shearY\": lambda img, magnitude: img.transform(\n",
        "                img.size, Image.AFFINE, (1, 0, 0, magnitude * random.choice([-1, 1]), 1, 0),\n",
        "                Image.BICUBIC, fillcolor=fillcolor),\n",
        "            \"translateX\": lambda img, magnitude: img.transform(\n",
        "                img.size, Image.AFFINE, (1, 0, magnitude * img.size[0] * random.choice([-1, 1]), 0, 1, 0),\n",
        "                fillcolor=fillcolor),\n",
        "            \"translateY\": lambda img, magnitude: img.transform(\n",
        "                img.size, Image.AFFINE, (1, 0, 0, 0, 1, magnitude * img.size[1] * random.choice([-1, 1])),\n",
        "                fillcolor=fillcolor),\n",
        "            \"rotate\": lambda img, magnitude: rotate_with_fill(img, magnitude),\n",
        "            \"color\": lambda img, magnitude: ImageEnhance.Color(img).enhance(1 + magnitude * random.choice([-1, 1])),\n",
        "            \"posterize\": lambda img, magnitude: ImageOps.posterize(img, magnitude),\n",
        "            \"solarize\": lambda img, magnitude: ImageOps.solarize(img, magnitude),\n",
        "            \"contrast\": lambda img, magnitude: ImageEnhance.Contrast(img).enhance(\n",
        "                1 + magnitude * random.choice([-1, 1])),\n",
        "            \"sharpness\": lambda img, magnitude: ImageEnhance.Sharpness(img).enhance(\n",
        "                1 + magnitude * random.choice([-1, 1])),\n",
        "            \"brightness\": lambda img, magnitude: ImageEnhance.Brightness(img).enhance(\n",
        "                1 + magnitude * random.choice([-1, 1])),\n",
        "            \"autocontrast\": lambda img, magnitude: ImageOps.autocontrast(img),\n",
        "            \"equalize\": lambda img, magnitude: ImageOps.equalize(img),\n",
        "            \"invert\": lambda img, magnitude: ImageOps.invert(img)\n",
        "        }\n",
        "\n",
        "        self.p1 = p1\n",
        "        self.operation1 = func[operation1]\n",
        "        self.magnitude1 = ranges[operation1][magnitude_idx1]\n",
        "        self.p2 = p2\n",
        "        self.operation2 = func[operation2]\n",
        "        self.magnitude2 = ranges[operation2][magnitude_idx2]\n",
        "\n",
        "\n",
        "    def __call__(self, img):\n",
        "        if random.random() < self.p1: img = self.operation1(img, self.magnitude1)\n",
        "        if random.random() < self.p2: img = self.operation2(img, self.magnitude2)\n",
        "        return img"
      ],
      "execution_count": 0,
      "outputs": []
    },
    {
      "cell_type": "code",
      "metadata": {
        "id": "zN8bIRD5pNaM",
        "colab_type": "code",
        "outputId": "1ca4af92-ed44-4aac-dafc-ecc98dca601b",
        "colab": {
          "base_uri": "https://localhost:8080/",
          "height": 34
        }
      },
      "source": [
        "aa_transforms = transforms.Compose([CIFAR10Policy(), transforms.ToTensor()])\n",
        "\n",
        "train_loader_aa = torch.utils.data.DataLoader(\n",
        "        datasets.CIFAR10('../data', train=True, download=True,\n",
        "                       transform=aa_transforms),\n",
        "        batch_size=BATCH_SIZE, shuffle=True, drop_last=True)"
      ],
      "execution_count": 10,
      "outputs": [
        {
          "output_type": "stream",
          "text": [
            "Files already downloaded and verified\n"
          ],
          "name": "stdout"
        }
      ]
    },
    {
      "cell_type": "markdown",
      "metadata": {
        "id": "YP_JotkHj29B",
        "colab_type": "text"
      },
      "source": [
        "Τρέξτε πολλές φορές το παρακάτω κελί για παραγωγή διάφορων εικόνων από το augmented dataset."
      ]
    },
    {
      "cell_type": "code",
      "metadata": {
        "id": "p5_2r1AkpW5j",
        "colab_type": "code",
        "outputId": "e1962991-2389-49ab-ce2f-f84785643e15",
        "colab": {
          "base_uri": "https://localhost:8080/",
          "height": 281
        }
      },
      "source": [
        "img, label = next(iter(train_loader_aa))\n",
        "image = img[0, :, :, :].numpy()\n",
        "plt.imshow(image.transpose(1, 2, 0))\n",
        "plt.title(label_to_class[label[0].item()])\n",
        "plt.show()"
      ],
      "execution_count": 11,
      "outputs": [
        {
          "output_type": "display_data",
          "data": {
            "image/png": "[encoded data removed]",
            "text/plain": [
              "<Figure size 432x288 with 1 Axes>"
            ]
          },
          "metadata": {
            "tags": []
          }
        }
      ]
    },
    {
      "cell_type": "markdown",
      "metadata": {
        "id": "xUM4lQH4kIm1",
        "colab_type": "text"
      },
      "source": [
        "Δοκιμάζουμε να συνεχίσουμε την εκπαίδευση του παραπάνω δικτύου για λίγες ακόμα εποχές με τα augmented δεδομένα αυτή τη φορά. Χαμηλώνουμε κατά μία τάξη μεγέθους το ρυθμό μάθησης του gradient descent, ώστε οι αλλαγές που κάνουμε στα βάρη του δικτύου να είναι σχετικά χαμηλές (finetuning), μιας και έχει ολοκληρωθεί η βασική εκπαίδευση του δικτύου."
      ]
    },
    {
      "cell_type": "code",
      "metadata": {
        "id": "9fkJcTRKec67",
        "colab_type": "code",
        "colab": {
          "base_uri": "https://localhost:8080/",
          "height": 918
        },
        "outputId": "110a933a-c136-45bf-c1bb-aab51b76172c"
      },
      "source": [
        "optimizer = torch.optim.SGD(model.parameters(), lr=0.01)\n",
        "\n",
        "train_losses = []\n",
        "train_counter = []\n",
        "test_losses = []\n",
        "test_counter = [i*len(train_loader_aa.dataset) for i in range(n_epochs + 1)]\n",
        "\n",
        "test(model)\n",
        "for epoch in range(1, n_epochs + 1):\n",
        "  train(epoch, train_loader_aa, model) # train with augmented dataset\n",
        "  test(model)"
      ],
      "execution_count": 12,
      "outputs": [
        {
          "output_type": "stream",
          "text": [
            "\n",
            "Test set: Avg. loss: 0.0887, Accuracy: 5026/10000 (50%)\n",
            "\n",
            "Train Epoch: 1 [0/50000 (0%)]\tLoss: 1.739655\n",
            "Train Epoch: 1 [7680/50000 (15%)]\tLoss: 1.626369\n",
            "Train Epoch: 1 [15360/50000 (31%)]\tLoss: 1.532088\n",
            "Train Epoch: 1 [23040/50000 (46%)]\tLoss: 1.247480\n",
            "Train Epoch: 1 [30720/50000 (61%)]\tLoss: 1.356761\n",
            "Train Epoch: 1 [38400/50000 (77%)]\tLoss: 1.462374\n",
            "Train Epoch: 1 [46080/50000 (92%)]\tLoss: 1.453137\n",
            "\n",
            "Test set: Avg. loss: 0.0827, Accuracy: 5447/10000 (54%)\n",
            "\n",
            "Train Epoch: 2 [0/50000 (0%)]\tLoss: 1.955487\n",
            "Train Epoch: 2 [7680/50000 (15%)]\tLoss: 1.445154\n",
            "Train Epoch: 2 [15360/50000 (31%)]\tLoss: 1.474421\n",
            "Train Epoch: 2 [23040/50000 (46%)]\tLoss: 2.065754\n",
            "Train Epoch: 2 [30720/50000 (61%)]\tLoss: 1.795799\n",
            "Train Epoch: 2 [38400/50000 (77%)]\tLoss: 1.402309\n",
            "Train Epoch: 2 [46080/50000 (92%)]\tLoss: 1.534110\n",
            "\n",
            "Test set: Avg. loss: 0.0813, Accuracy: 5523/10000 (55%)\n",
            "\n",
            "Train Epoch: 3 [0/50000 (0%)]\tLoss: 1.763641\n",
            "Train Epoch: 3 [7680/50000 (15%)]\tLoss: 1.575195\n",
            "Train Epoch: 3 [15360/50000 (31%)]\tLoss: 2.154936\n",
            "Train Epoch: 3 [23040/50000 (46%)]\tLoss: 1.134694\n",
            "Train Epoch: 3 [30720/50000 (61%)]\tLoss: 1.854059\n",
            "Train Epoch: 3 [38400/50000 (77%)]\tLoss: 1.484770\n",
            "Train Epoch: 3 [46080/50000 (92%)]\tLoss: 1.764696\n",
            "\n",
            "Test set: Avg. loss: 0.0811, Accuracy: 5560/10000 (55%)\n",
            "\n",
            "Train Epoch: 4 [0/50000 (0%)]\tLoss: 1.622985\n",
            "Train Epoch: 4 [7680/50000 (15%)]\tLoss: 1.510163\n",
            "Train Epoch: 4 [15360/50000 (31%)]\tLoss: 1.318913\n",
            "Train Epoch: 4 [23040/50000 (46%)]\tLoss: 1.652649\n",
            "Train Epoch: 4 [30720/50000 (61%)]\tLoss: 1.830793\n",
            "Train Epoch: 4 [38400/50000 (77%)]\tLoss: 1.627858\n",
            "Train Epoch: 4 [46080/50000 (92%)]\tLoss: 1.658972\n",
            "\n",
            "Test set: Avg. loss: 0.0813, Accuracy: 5509/10000 (55%)\n",
            "\n",
            "Train Epoch: 5 [0/50000 (0%)]\tLoss: 1.377064\n",
            "Train Epoch: 5 [7680/50000 (15%)]\tLoss: 1.613209\n",
            "Train Epoch: 5 [15360/50000 (31%)]\tLoss: 1.858201\n",
            "Train Epoch: 5 [23040/50000 (46%)]\tLoss: 1.505870\n",
            "Train Epoch: 5 [30720/50000 (61%)]\tLoss: 1.857614\n",
            "Train Epoch: 5 [38400/50000 (77%)]\tLoss: 2.106852\n",
            "Train Epoch: 5 [46080/50000 (92%)]\tLoss: 1.882707\n",
            "\n",
            "Test set: Avg. loss: 0.0806, Accuracy: 5546/10000 (55%)\n",
            "\n"
          ],
          "name": "stdout"
        }
      ]
    },
    {
      "cell_type": "markdown",
      "metadata": {
        "id": "APcjeA5cl3Vu",
        "colab_type": "text"
      },
      "source": [
        "Παρατηρούμε πως ακόμα και στην μικρή αυτή αρχιτεκτονική, η χρήση augmented δεδομένων βοήθησε το δίκτου να γενικεύσει καλύτερα και πιθανώς η χρήση augmented δεδομένων μετά τη βασική εκπαίδευση ενός δικτύου να αποτελεί ένα καλό τρόπο για ένα επιπλέον regularization των παραμέτρων μοντέλου."
      ]
    }
  ]
}