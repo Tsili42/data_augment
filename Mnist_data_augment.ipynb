{
  "nbformat": 4,
  "nbformat_minor": 0,
  "metadata": {
    "colab": {
      "name": "Mnist data augment",
      "provenance": []
    },
    "kernelspec": {
      "name": "python3",
      "display_name": "Python 3"
    },
    "accelerator": "GPU"
  },
  "cells": [
    {
      "cell_type": "markdown",
      "metadata": {
        "id": "QCYrzBdaMo2P",
        "colab_type": "text"
      },
      "source": [
        "# Augmentation vs no augmenation σε μία απλή αρχιτεκτονικη για το dataset MNIST"
      ]
    },
    {
      "cell_type": "code",
      "metadata": {
        "id": "u-o1WKFn9url",
        "colab_type": "code",
        "outputId": "64c5e321-3b91-4ebe-d280-2c4662340d8c",
        "colab": {
          "base_uri": "https://localhost:8080/",
          "height": 51
        }
      },
      "source": [
        "!pip install opencv-python"
      ],
      "execution_count": 1,
      "outputs": [
        {
          "output_type": "stream",
          "text": [
            "Requirement already satisfied: opencv-python in /usr/local/lib/python3.6/dist-packages (3.4.7.28)\n",
            "Requirement already satisfied: numpy>=1.11.3 in /usr/local/lib/python3.6/dist-packages (from opencv-python) (1.16.5)\n"
          ],
          "name": "stdout"
        }
      ]
    },
    {
      "cell_type": "code",
      "metadata": {
        "id": "m7agjHLn1qzH",
        "colab_type": "code",
        "colab": {}
      },
      "source": [
        "import torch, numpy as np\n",
        "from torchvision import datasets, transforms\n",
        "import cv2\n",
        "import matplotlib.pyplot as plt"
      ],
      "execution_count": 0,
      "outputs": []
    },
    {
      "cell_type": "markdown",
      "metadata": {
        "id": "pLczpkdSachl",
        "colab_type": "text"
      },
      "source": [
        "Φορτώνουμε τα δεδομένα του MNIST σε 2 data loaders."
      ]
    },
    {
      "cell_type": "code",
      "metadata": {
        "id": "JhYTlf6s13Yj",
        "colab_type": "code",
        "colab": {}
      },
      "source": [
        "BATCH_SIZE = 32\n",
        "\n",
        "train_loader = torch.utils.data.DataLoader(\n",
        "        datasets.MNIST('../data', train=True, download=True,\n",
        "                       transform=transforms.ToTensor()),\n",
        "        batch_size=BATCH_SIZE, shuffle=True, drop_last=True)\n",
        "\n",
        "test_loader = torch.utils.data.DataLoader(\n",
        "        datasets.MNIST('../data', train=False, download=True,\n",
        "                       transform=transforms.ToTensor()),\n",
        "        batch_size=BATCH_SIZE, shuffle=True, drop_last=True)"
      ],
      "execution_count": 0,
      "outputs": []
    },
    {
      "cell_type": "markdown",
      "metadata": {
        "id": "HsPkHoLtaiVL",
        "colab_type": "text"
      },
      "source": [
        "Χρησιμοποιούμε την GPU του συστήματος."
      ]
    },
    {
      "cell_type": "code",
      "metadata": {
        "id": "xk7_XJrqnXbk",
        "colab_type": "code",
        "outputId": "5f5bd734-4d24-431f-b6fa-3c3af7b6a635",
        "colab": {
          "base_uri": "https://localhost:8080/",
          "height": 34
        }
      },
      "source": [
        "device = torch.device(\"cuda:0\" if torch.cuda.is_available() else \"cpu\")\n",
        "device"
      ],
      "execution_count": 3,
      "outputs": [
        {
          "output_type": "execute_result",
          "data": {
            "text/plain": [
              "device(type='cuda', index=0)"
            ]
          },
          "metadata": {
            "tags": []
          },
          "execution_count": 3
        }
      ]
    },
    {
      "cell_type": "code",
      "metadata": {
        "id": "aFTOv4PqmQoi",
        "colab_type": "code",
        "outputId": "ca04b430-c561-45b9-d6fb-36c9f04a89d4",
        "colab": {
          "base_uri": "https://localhost:8080/",
          "height": 34
        }
      },
      "source": [
        "(len(train_loader))*BATCH_SIZE"
      ],
      "execution_count": 4,
      "outputs": [
        {
          "output_type": "execute_result",
          "data": {
            "text/plain": [
              "60000"
            ]
          },
          "metadata": {
            "tags": []
          },
          "execution_count": 4
        }
      ]
    },
    {
      "cell_type": "markdown",
      "metadata": {
        "id": "cX94Xk5Aap-e",
        "colab_type": "text"
      },
      "source": [
        "Οπτικοποίηση μη augmented δεδομένων."
      ]
    },
    {
      "cell_type": "code",
      "metadata": {
        "id": "gcyFF_Rt2VU3",
        "colab_type": "code",
        "outputId": "2e3649d6-2000-4342-ece2-c001406d70db",
        "colab": {
          "base_uri": "https://localhost:8080/",
          "height": 1000
        }
      },
      "source": [
        "images, labels = list(train_loader)[0]\n",
        "for i in range(5):\n",
        "      plt.imshow(images[i, 0, :, :], cmap='gray')\n",
        "      plt.title(labels[i].item())\n",
        "      plt.show()"
      ],
      "execution_count": 5,
      "outputs": [
        {
          "output_type": "display_data",
          "data": {
            "image/png": "[encoded data removed]",
            "text/plain": [
              "<Figure size 432x288 with 1 Axes>"
            ]
          },
          "metadata": {
            "tags": []
          }
        },
        {
          "output_type": "display_data",
          "data": {
            "image/png": "[encoded data removed]",
            "text/plain": [
              "<Figure size 432x288 with 1 Axes>"
            ]
          },
          "metadata": {
            "tags": []
          }
        },
        {
          "output_type": "display_data",
          "data": {
            "image/png": "[encoded data removed]",
            "text/plain": [
              "<Figure size 432x288 with 1 Axes>"
            ]
          },
          "metadata": {
            "tags": []
          }
        },
        {
          "output_type": "display_data",
          "data": {
            "image/png": "[encoded data removed]",
            "text/plain": [
              "<Figure size 432x288 with 1 Axes>"
            ]
          },
          "metadata": {
            "tags": []
          }
        },
        {
          "output_type": "display_data",
          "data": {
            "image/png": "[encoded data removed]",
            "text/plain": [
              "<Figure size 432x288 with 1 Axes>"
            ]
          },
          "metadata": {
            "tags": []
          }
        }
      ]
    },
    {
      "cell_type": "code",
      "metadata": {
        "id": "LNbUO6TN2c0F",
        "colab_type": "code",
        "colab": {}
      },
      "source": [
        "import torch.nn as nn\n",
        "import torch.nn.functional as functions\n",
        "import torch.optim as optim"
      ],
      "execution_count": 0,
      "outputs": []
    },
    {
      "cell_type": "markdown",
      "metadata": {
        "id": "jsWMg_L0a7Zd",
        "colab_type": "text"
      },
      "source": [
        "Ορίζουμε την βασική αρχιτεκτονική που θα χρησιμοποιήσουμε. Πρόκειται για ένα convolutional network με ReLU και max pool layers. Η διάσταση του τελικού σταδίου είναι 10 (όσες και οι διαφορετικές κλάσεις του MNIST)"
      ]
    },
    {
      "cell_type": "code",
      "metadata": {
        "id": "aG4X_DxH5r1s",
        "colab_type": "code",
        "colab": {}
      },
      "source": [
        "#class LinearNet(nn.Module):\n",
        "#  def __init__(self, input_dim, output_dim):\n",
        "#    super(LinearNet, self).__init__()\n",
        "#    self.fc1 = nn.Linear(input_dim, output_dim)\n",
        "#  \n",
        "#  def forward(self, x):\n",
        "#    x = x.view(-1, 28*28)\n",
        "#    x = self.fc1(x)\n",
        "#    return x\n",
        " # I was trying to see the effect of augmentation on simpler models. It serves no purpose in the current demo. \n",
        "\n",
        "class BasicCNN(nn.Module):\n",
        "  def __init__(self, input_dim, output_dim):\n",
        "    super(BasicCNN, self).__init__()\n",
        "    self.input_dim = input_dim\n",
        "    self.output_dim = output_dim\n",
        "    self.convolutional_layer = nn.Sequential(nn.Conv2d(in_channels=self.input_dim, out_channels=12, kernel_size=4),\n",
        "                                nn.ReLU(inplace=True),\n",
        "                                nn.MaxPool2d(kernel_size=5)\n",
        "                               )\n",
        "    self.classifier_layer = nn.Linear(12*5*5, self.output_dim)\n",
        "   \n",
        "  def forward(self, x):\n",
        "    x = self.convolutional_layer(x)\n",
        "    x = x.view(BATCH_SIZE, -1)\n",
        "    return self.classifier_layer(x)\n",
        "    "
      ],
      "execution_count": 0,
      "outputs": []
    },
    {
      "cell_type": "code",
      "metadata": {
        "id": "Al92yVq2_pw8",
        "colab_type": "code",
        "colab": {}
      },
      "source": [
        "def train(epoch, train_data, model):\n",
        "  model.train()\n",
        "  for batch_idx, (data, target) in enumerate(train_data):\n",
        "    data = data.to(device)\n",
        "    target = target.to(device)\n",
        "    optimizer.zero_grad()\n",
        "    output = model(data)\n",
        "    loss = loss_function(output, target)\n",
        "    loss.backward()\n",
        "    optimizer.step()\n",
        "    if batch_idx % 480 == 0:\n",
        "      print('Train Epoch: {} [{}/{} ({:.0f}%)]\\tLoss: {:.6f}'.format(\n",
        "        epoch, batch_idx * len(data), len(train_data.dataset),\n",
        "        100. * batch_idx / len(train_data), loss.item()))\n",
        "      train_losses.append(loss.item())\n",
        "      train_counter.append(\n",
        "        (batch_idx*64) + ((epoch-1)*len(train_data.dataset)))\n",
        "      \n",
        "      \n",
        "def test(model):\n",
        "  model.eval()\n",
        "  test_loss = 0\n",
        "  correct = 0\n",
        "  with torch.no_grad():\n",
        "    for data, target in test_loader:\n",
        "      data = data.to(device)\n",
        "      target = target.to(device)\n",
        "      output = model(data)\n",
        "      test_loss += loss_function(output, target).item()\n",
        "      pred = output.data.max(1, keepdim=True)[1]\n",
        "      correct += pred.eq(target.data.view_as(pred)).sum()\n",
        "  test_loss /= len(test_loader.dataset)\n",
        "  test_losses.append(test_loss)\n",
        "  print('\\nTest set: Avg. loss: {:.4f}, Accuracy: {}/{} ({:.0f}%)\\n'.format(\n",
        "    test_loss, correct, len(test_loader.dataset),\n",
        "    100. * correct / len(test_loader.dataset)))"
      ],
      "execution_count": 0,
      "outputs": []
    },
    {
      "cell_type": "markdown",
      "metadata": {
        "id": "abPH7Jd8bvrQ",
        "colab_type": "text"
      },
      "source": [
        "Εκπαιδεύουμε για 5 εποχές το δίκτυο με τα μη augmented δεδομένα."
      ]
    },
    {
      "cell_type": "code",
      "metadata": {
        "id": "0CWHOSlwANbm",
        "colab_type": "code",
        "outputId": "728f49d8-45dc-4d44-fb33-213c0c6701dd",
        "colab": {
          "base_uri": "https://localhost:8080/",
          "height": 663
        }
      },
      "source": [
        "input_dim = 1\n",
        "output_dim = 10\n",
        "n_epochs = 5\n",
        "\n",
        "model = BasicCNN(input_dim, output_dim).to(device)\n",
        "loss_function = nn.CrossEntropyLoss()\n",
        "optimizer = torch.optim.Adam(model.parameters(), lr=0.01)\n",
        "\n",
        "train_losses = []\n",
        "train_counter = []\n",
        "test_losses = []\n",
        "test_counter = [i*len(train_loader.dataset) for i in range(n_epochs + 1)]\n",
        "\n",
        "test(model)\n",
        "for epoch in range(1, n_epochs + 1):\n",
        "  train(epoch, train_loader, model)\n",
        "  test(model)"
      ],
      "execution_count": 9,
      "outputs": [
        {
          "output_type": "stream",
          "text": [
            "\n",
            "Test set: Avg. loss: 0.0721, Accuracy: 1256/10000 (12%)\n",
            "\n",
            "Train Epoch: 1 [0/60000 (0%)]\tLoss: 2.351829\n",
            "Train Epoch: 1 [15360/60000 (26%)]\tLoss: 0.061608\n",
            "Train Epoch: 1 [30720/60000 (51%)]\tLoss: 0.127023\n",
            "Train Epoch: 1 [46080/60000 (77%)]\tLoss: 0.020636\n",
            "\n",
            "Test set: Avg. loss: 0.0026, Accuracy: 9737/10000 (97%)\n",
            "\n",
            "Train Epoch: 2 [0/60000 (0%)]\tLoss: 0.296270\n",
            "Train Epoch: 2 [15360/60000 (26%)]\tLoss: 0.001738\n",
            "Train Epoch: 2 [30720/60000 (51%)]\tLoss: 0.181637\n",
            "Train Epoch: 2 [46080/60000 (77%)]\tLoss: 0.027298\n",
            "\n",
            "Test set: Avg. loss: 0.0020, Accuracy: 9781/10000 (97%)\n",
            "\n",
            "Train Epoch: 3 [0/60000 (0%)]\tLoss: 0.043849\n",
            "Train Epoch: 3 [15360/60000 (26%)]\tLoss: 0.011739\n",
            "Train Epoch: 3 [30720/60000 (51%)]\tLoss: 0.155131\n",
            "Train Epoch: 3 [46080/60000 (77%)]\tLoss: 0.179528\n",
            "\n",
            "Test set: Avg. loss: 0.0022, Accuracy: 9761/10000 (97%)\n",
            "\n",
            "Train Epoch: 4 [0/60000 (0%)]\tLoss: 0.039279\n",
            "Train Epoch: 4 [15360/60000 (26%)]\tLoss: 0.000464\n",
            "Train Epoch: 4 [30720/60000 (51%)]\tLoss: 0.154990\n",
            "Train Epoch: 4 [46080/60000 (77%)]\tLoss: 0.011090\n",
            "\n",
            "Test set: Avg. loss: 0.0028, Accuracy: 9728/10000 (97%)\n",
            "\n",
            "Train Epoch: 5 [0/60000 (0%)]\tLoss: 0.006634\n",
            "Train Epoch: 5 [15360/60000 (26%)]\tLoss: 0.064911\n",
            "Train Epoch: 5 [30720/60000 (51%)]\tLoss: 0.033936\n",
            "Train Epoch: 5 [46080/60000 (77%)]\tLoss: 0.004079\n",
            "\n",
            "Test set: Avg. loss: 0.0024, Accuracy: 9768/10000 (97%)\n",
            "\n"
          ],
          "name": "stdout"
        }
      ]
    },
    {
      "cell_type": "markdown",
      "metadata": {
        "id": "xTwE4Qc7b_dg",
        "colab_type": "text"
      },
      "source": [
        "Ορίζουμε 3 τεχνικές augmentation των οποίων την καταλληλότητα θα ελέγξουμε για το παρόν dataset. Πρόκειται για:\n",
        "\n",
        "\n",
        "*   Gaussian smoothing\n",
        "*   Μορφολογική παράγωγο\n",
        "*   Τυχαία περιστροφή (από 45 μέχρι -45 μοίρες)\n",
        "\n",
        "Σε κάθε εικόνα με πιθανότητα $p = 0.8$ εφαρμόζεται **μία** εκ των παραπάνω τεχνικών. Με πιθανότητα $p = 0.2$ η εικόνα δεν υπόκειται αλλαγή. Πρόκειται για αρκετά \"επιθετικό\" augmentation.\n",
        "\n"
      ]
    },
    {
      "cell_type": "code",
      "metadata": {
        "id": "fBEsBbFXJsXk",
        "colab_type": "code",
        "colab": {}
      },
      "source": [
        "def smoothen(img):\n",
        "  scale = (5,5)\n",
        "  return cv2.GaussianBlur(np.asarray(img), scale, 0)\n",
        "\n",
        "def gradient(img):\n",
        "  kernel = np.ones((2,2),np.uint8)\n",
        "  return cv2.morphologyEx(np.asarray(img), cv2.MORPH_GRADIENT, kernel)\n",
        "\n",
        "img_transforms = transforms.Compose([transforms.RandomApply([transforms.RandomChoice([transforms.Lambda(smoothen), transforms.Lambda(gradient), transforms.RandomRotation(degrees=45)])], p=0.8), transforms.ToTensor()])\n",
        "\n",
        "train_loader_aug = torch.utils.data.DataLoader(\n",
        "        datasets.MNIST('../data', train=True, download=True,\n",
        "                       transform=img_transforms),\n",
        "        batch_size=BATCH_SIZE, shuffle=True, drop_last=True)"
      ],
      "execution_count": 0,
      "outputs": []
    },
    {
      "cell_type": "markdown",
      "metadata": {
        "id": "LBdLRcMdlJcA",
        "colab_type": "text"
      },
      "source": [
        "Οπτικοποίηση του augmented dataset. Βλέπουμε για παράδειγμα πως η 4η εικόνα έχει υποστεί μορφολογικό φιλτράρισμα και έχει μείνει μονάχα το περίγραμμα του ψηφίου. Αν αλλάξετε τον μετρητή στο παρακάτω loop θα εμφανιστούν και άλλα παραδείγματα τέτοιων εικόνων. "
      ]
    },
    {
      "cell_type": "code",
      "metadata": {
        "id": "stGU9BsGYHE4",
        "colab_type": "code",
        "colab": {
          "base_uri": "https://localhost:8080/",
          "height": 1000
        },
        "outputId": "dae21753-e162-4e55-8ef1-35c06192a533"
      },
      "source": [
        "images, labels = list(train_loader_aug)[0]\n",
        "for i in range(5):\n",
        "    plt.imshow(images[i, 0, :, :], cmap='gray')\n",
        "    images[i, 0, :, :].size()\n",
        "    plt.title(labels[i].item())\n",
        "    plt.show()"
      ],
      "execution_count": 11,
      "outputs": [
        {
          "output_type": "display_data",
          "data": {
            "image/png": "[encoded data removed]",
            "text/plain": [
              "<Figure size 432x288 with 1 Axes>"
            ]
          },
          "metadata": {
            "tags": []
          }
        },
        {
          "output_type": "display_data",
          "data": {
            "image/png": "[encoded data removed]",
            "text/plain": [
              "<Figure size 432x288 with 1 Axes>"
            ]
          },
          "metadata": {
            "tags": []
          }
        },
        {
          "output_type": "display_data",
          "data": {
            "image/png": "[encoded data removed]",
            "text/plain": [
              "<Figure size 432x288 with 1 Axes>"
            ]
          },
          "metadata": {
            "tags": []
          }
        },
        {
          "output_type": "display_data",
          "data": {
            "image/png": "[encoded data removed]",
            "text/plain": [
              "<Figure size 432x288 with 1 Axes>"
            ]
          },
          "metadata": {
            "tags": []
          }
        },
        {
          "output_type": "display_data",
          "data": {
            "image/png": "[encoded data removed]",
            "text/plain": [
              "<Figure size 432x288 with 1 Axes>"
            ]
          },
          "metadata": {
            "tags": []
          }
        }
      ]
    },
    {
      "cell_type": "code",
      "metadata": {
        "id": "zIdiqtpErQ3s",
        "colab_type": "code",
        "colab": {
          "base_uri": "https://localhost:8080/",
          "height": 663
        },
        "outputId": "9542d268-2cdb-48d7-ec6d-c22d47b60d06"
      },
      "source": [
        "model_aug = BasicCNN(input_dim, output_dim).to(device)\n",
        "optimizer = torch.optim.Adam(model_aug.parameters(), lr=0.01)\n",
        "train_losses = []\n",
        "train_counter = []\n",
        "test_losses = []\n",
        "test_counter = [i*len(train_loader_aug.dataset) for i in range(n_epochs + 1)]\n",
        "\n",
        "test(model_aug)\n",
        "for epoch in range(1, n_epochs + 1):\n",
        "  train(epoch, train_loader_aug, model_aug)\n",
        "  test(model_aug)"
      ],
      "execution_count": 14,
      "outputs": [
        {
          "output_type": "stream",
          "text": [
            "\n",
            "Test set: Avg. loss: 0.0741, Accuracy: 1049/10000 (10%)\n",
            "\n",
            "Train Epoch: 1 [0/60000 (0%)]\tLoss: 2.407046\n",
            "Train Epoch: 1 [15360/60000 (26%)]\tLoss: 0.223404\n",
            "Train Epoch: 1 [30720/60000 (51%)]\tLoss: 0.235433\n",
            "Train Epoch: 1 [46080/60000 (77%)]\tLoss: 0.309411\n",
            "\n",
            "Test set: Avg. loss: 0.0048, Accuracy: 9519/10000 (95%)\n",
            "\n",
            "Train Epoch: 2 [0/60000 (0%)]\tLoss: 0.170665\n",
            "Train Epoch: 2 [15360/60000 (26%)]\tLoss: 0.141460\n",
            "Train Epoch: 2 [30720/60000 (51%)]\tLoss: 0.298921\n",
            "Train Epoch: 2 [46080/60000 (77%)]\tLoss: 0.039870\n",
            "\n",
            "Test set: Avg. loss: 0.0038, Accuracy: 9635/10000 (96%)\n",
            "\n",
            "Train Epoch: 3 [0/60000 (0%)]\tLoss: 0.034392\n",
            "Train Epoch: 3 [15360/60000 (26%)]\tLoss: 0.338876\n",
            "Train Epoch: 3 [30720/60000 (51%)]\tLoss: 0.195852\n",
            "Train Epoch: 3 [46080/60000 (77%)]\tLoss: 0.139065\n",
            "\n",
            "Test set: Avg. loss: 0.0039, Accuracy: 9640/10000 (96%)\n",
            "\n",
            "Train Epoch: 4 [0/60000 (0%)]\tLoss: 0.087395\n",
            "Train Epoch: 4 [15360/60000 (26%)]\tLoss: 0.054545\n",
            "Train Epoch: 4 [30720/60000 (51%)]\tLoss: 0.276153\n",
            "Train Epoch: 4 [46080/60000 (77%)]\tLoss: 0.226218\n",
            "\n",
            "Test set: Avg. loss: 0.0034, Accuracy: 9666/10000 (96%)\n",
            "\n",
            "Train Epoch: 5 [0/60000 (0%)]\tLoss: 0.420921\n",
            "Train Epoch: 5 [15360/60000 (26%)]\tLoss: 0.163422\n",
            "Train Epoch: 5 [30720/60000 (51%)]\tLoss: 0.103758\n",
            "Train Epoch: 5 [46080/60000 (77%)]\tLoss: 0.239450\n",
            "\n",
            "Test set: Avg. loss: 0.0037, Accuracy: 9671/10000 (96%)\n",
            "\n"
          ],
          "name": "stdout"
        }
      ]
    },
    {
      "cell_type": "markdown",
      "metadata": {
        "id": "ScLa9YuZlvTN",
        "colab_type": "text"
      },
      "source": [
        "Παρατηρούμε παρόμοια ποιότητα ταξινόμησης των ψηφίων στο test set, ακόμα και για το augmented dataset, στο οποίο υπενθυμίζουμε πως κατά μέσο όρο έχει αλλάξει το 80% των δεδομένων του. Επομένως, οι τεχνικές που χρησιμοποιήθηκαν σίγουρα δεν βλάπτουν τη δυνατότητα γενίκευσης του δικτύου και πιθανώς σε απλούστερα δίκτυα να είναι και ωφέλιμες. Σε κάθε περίπτωση στόχος του συγκεκριμένου notebook ήταν περισσότερο το να πειραματιστούμε με ορισμένες augmentation τεχνικές και λιγότερο να βρούμε μία καλή αρχιτεκτονική για το MNIST."
      ]
    }
  ]
}